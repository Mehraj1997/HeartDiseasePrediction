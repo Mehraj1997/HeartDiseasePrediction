{
 "cells": [
  {
   "cell_type": "markdown",
   "metadata": {},
   "source": [
    "# Predicting heart disease with machine learning\n",
    "\n",
    "This notebook looks into using various Python machine learning libraries to evaluate the data using data science and machine learning in an attempt to predict whether a person has a heart disease or not by looking into different attributes.\n",
    "\n",
    "We're going to go through the following approach:\n",
    "\n",
    "1. Problem Definition\n",
    "2. Data\n",
    "3. Evaluation\n",
    "4. Features\n",
    "5. Modelling\n",
    "6. Experimentation\n",
    "\n",
    "## 1. Problem Defintion\n",
    "\n",
    "In a statement,\n",
    "> Given a patient's record we are trying to predict whether or not the patient have heart disease or not\n",
    "\n",
    "## 2. Data\n",
    "\n",
    "> We are provided with the structure data.\n",
    "The original data came from Cleavland UCI Machine Learning Repository.http://archive.ics.uci.edu/ml/datasets/Heart+Disease\n",
    "\n",
    "## 3. Evaluation\n",
    "\n",
    "> If we can 95% accuracy in prediction successfully whether or not a person has heart disease during the proof of concept , we'll pursue the project\n",
    "\n",
    "## 4. Features\n",
    "\n",
    "This is where you'll get information about every features in the data set.\n",
    "\n",
    "**Create data dictionary**\n",
    "\n",
    "Only 14 attributes used:\n",
    "1. #3 (age)\n",
    "2. #4 (sex)\n",
    "3. #9 (cp)\n",
    "4. #10 (trestbps)\n",
    "5. #12 (chol)\n",
    "6. #16 (fbs)\n",
    "7. #19 (restecg)\n",
    "8. #32 (thalach)\n",
    "9. #38 (exang)\n",
    "10. #40 (oldpeak)\n",
    "11. #41 (slope)\n",
    "12. #44 (ca)\n",
    "13. #51 (thal)\n",
    "14. #58 (num) (the predicted attribute)\n",
    "\n"
   ]
  },
  {
   "cell_type": "markdown",
   "metadata": {},
   "source": [
    "## Preparing the tools \n",
    "\n",
    "We are going to require pandas,numpy and matplotlib for data analysis:"
   ]
  },
  {
   "cell_type": "code",
   "execution_count": 3,
   "metadata": {},
   "outputs": [],
   "source": [
    "#importing all the tools that we need\n",
    "\n",
    "#Regular EDA (Exploratory Data Analysis) and plotting libraries\n",
    "\n",
    "import numpy as np\n",
    "import pandas as pd\n",
    "import matplotlib.pyplot as plt\n",
    "\n",
    "#We want our plots to appear inside the notebook\n",
    "\n",
    "%matplotlib inline\n",
    "#Models from Scikit-Learn\n",
    "\n",
    "from sklearn.linear_model import LogisticRegression\n",
    "from sklearn.neighbors import KNeighborsClassifier\n",
    "from sklearn.ensemble import RandomForestClassifier\n",
    "\n",
    "#Model Evaluation\n",
    "\n",
    "from sklearn.model_selection import train_test_split,cross_val_score\n",
    "from sklearn.model_selection import RandomizedSearchCV,GridSearchCV\n",
    "from sklearn.metrics import confusion_matrix,classification_report\n",
    "from sklearn.metrics import precision_score,f1_score,recall_score\n",
    "from sklearn.metrics import plot_roc_curve"
   ]
  },
  {
   "cell_type": "markdown",
   "metadata": {},
   "source": [
    "## Load Data"
   ]
  },
  {
   "cell_type": "markdown",
   "metadata": {},
   "source": [
    "Here we are going to perform some regular EDA (Exploratory Data Analysis) over the data to know the data in a better way. \n",
    "\n",
    "We would mainly try to answer the following questions:\n",
    "    \n",
    "    1. What problem are we trying to solve?(Supervised/Unsupervised/Reinforcement/Transfer)\n",
    "    2. What are different types we have in the data?\n",
    "    3. How many missing values do we have?\n",
    "    4. Do we need to perform feature selection?\n",
    "    5. Should it be a forward or backward feature selection?"
   ]
  },
  {
   "cell_type": "code",
   "execution_count": null,
   "metadata": {},
   "outputs": [],
   "source": []
  }
 ],
 "metadata": {
  "kernelspec": {
   "display_name": "Python 3",
   "language": "python",
   "name": "python3"
  },
  "language_info": {
   "codemirror_mode": {
    "name": "ipython",
    "version": 3
   },
   "file_extension": ".py",
   "mimetype": "text/x-python",
   "name": "python",
   "nbconvert_exporter": "python",
   "pygments_lexer": "ipython3",
   "version": "3.7.7"
  }
 },
 "nbformat": 4,
 "nbformat_minor": 4
}
